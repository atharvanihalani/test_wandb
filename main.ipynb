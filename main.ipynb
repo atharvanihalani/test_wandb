{
 "cells": [
  {
   "cell_type": "code",
   "execution_count": 1,
   "id": "5684673f",
   "metadata": {},
   "outputs": [],
   "source": [
    "import torch as t\n",
    "import numpy as np\n",
    "import math\n",
    "from matplotlib import pyplot as plt\n",
    "from dataclasses import dataclass\n",
    "from torchvision import datasets, transforms\n",
    "from torch.utils.data import DataLoader\n",
    "from tqdm import tqdm\n",
    "import wandb"
   ]
  },
  {
   "cell_type": "code",
   "execution_count": 2,
   "id": "e9741e0e",
   "metadata": {},
   "outputs": [],
   "source": [
    "@dataclass\n",
    "class CNNArgs:\n",
    "    batch_size = 64\n",
    "    lr = 0.01\n",
    "    epochs = 3\n",
    "    img_dim = 28\n",
    "\n",
    "args = CNNArgs()"
   ]
  },
  {
   "cell_type": "code",
   "execution_count": 3,
   "id": "097d7a47",
   "metadata": {},
   "outputs": [],
   "source": [
    "train_dataset = datasets.MNIST(root='./data', train=True, download=True, transform=transforms.ToTensor())\n",
    "test_dataset = datasets.MNIST(root='./data', train=False, download=True, transform=transforms.ToTensor())\n",
    "\n",
    "train_loader = DataLoader(train_dataset, batch_size=args.batch_size, shuffle=True,)\n",
    "test_loader = DataLoader(test_dataset, batch_size=args.batch_size, shuffle=False,)"
   ]
  },
  {
   "cell_type": "code",
   "execution_count": 4,
   "id": "d2e2c2c7",
   "metadata": {},
   "outputs": [],
   "source": [
    "class CNN(t.nn.Module):\n",
    "    def __init__(self, args):\n",
    "        super().__init__()\n",
    "        self.layers = t.nn.Sequential(\n",
    "            t.nn.Conv2d(1, 4, 3, padding='same'),\n",
    "            t.nn.ReLU(),\n",
    "            t.nn.MaxPool2d(2, 2),\n",
    "            t.nn.Flatten(),\n",
    "            t.nn.Linear(14*14*4, 10),\n",
    "            # t.nn.ReLU(),\n",
    "            # t.nn.Linear(64, 10)\n",
    "        )\n",
    "\n",
    "    def forward(self, x):\n",
    "        return self.layers(x)\n",
    "\n",
    "    def extra_repr(self):\n",
    "        pass\n",
    "\n",
    "\n",
    "class FeedForward(t.nn.Module):\n",
    "    def __init__(self, args):\n",
    "        super().__init__()\n",
    "        self.layers = t.nn.Sequential(\n",
    "            t.nn.Flatten(),\n",
    "            t.nn.Linear(28*28, 64),\n",
    "            t.nn.ReLU(),\n",
    "            t.nn.Linear(64, 10),\n",
    "            # t.nn.Softmax()\n",
    "        )\n",
    "\n",
    "    def forward(self, x):\n",
    "        return self.layers(x)\n",
    "\n",
    "    def extra_repr(self):\n",
    "        pass"
   ]
  },
  {
   "cell_type": "code",
   "execution_count": 16,
   "id": "1ec666d8",
   "metadata": {},
   "outputs": [
    {
     "data": {
      "text/html": [
       "Tracking run with wandb version 0.19.11"
      ],
      "text/plain": [
       "<IPython.core.display.HTML object>"
      ]
     },
     "metadata": {},
     "output_type": "display_data"
    },
    {
     "data": {
      "text/html": [
       "Run data is saved locally in <code>/root/test_wandb/wandb/run-20250522_232647-c0gvqgvl</code>"
      ],
      "text/plain": [
       "<IPython.core.display.HTML object>"
      ]
     },
     "metadata": {},
     "output_type": "display_data"
    },
    {
     "data": {
      "text/html": [
       "Syncing run <strong><a href='https://wandb.ai/atharva_nihalani-brown-university/trial-sweep/runs/c0gvqgvl' target=\"_blank\">unique-wind-4</a></strong> to <a href='https://wandb.ai/atharva_nihalani-brown-university/trial-sweep' target=\"_blank\">Weights & Biases</a> (<a href='https://wandb.me/developer-guide' target=\"_blank\">docs</a>)<br>"
      ],
      "text/plain": [
       "<IPython.core.display.HTML object>"
      ]
     },
     "metadata": {},
     "output_type": "display_data"
    },
    {
     "data": {
      "text/html": [
       " View project at <a href='https://wandb.ai/atharva_nihalani-brown-university/trial-sweep' target=\"_blank\">https://wandb.ai/atharva_nihalani-brown-university/trial-sweep</a>"
      ],
      "text/plain": [
       "<IPython.core.display.HTML object>"
      ]
     },
     "metadata": {},
     "output_type": "display_data"
    },
    {
     "data": {
      "text/html": [
       " View run at <a href='https://wandb.ai/atharva_nihalani-brown-university/trial-sweep/runs/c0gvqgvl' target=\"_blank\">https://wandb.ai/atharva_nihalani-brown-university/trial-sweep/runs/c0gvqgvl</a>"
      ],
      "text/plain": [
       "<IPython.core.display.HTML object>"
      ]
     },
     "metadata": {},
     "output_type": "display_data"
    },
    {
     "name": "stderr",
     "output_type": "stream",
     "text": [
      "100%|██████████| 938/938 [00:05<00:00, 169.70it/s]\n"
     ]
    }
   ],
   "source": [
    "model = CNN(args).to('cuda')\n",
    "optimizer = t.optim.AdamW(model.parameters(), lr=args.lr)\n",
    "\n",
    "wandb.init(project='trial-sweep') #pass config next; track hyperparams\n",
    "wandb.watch(models=model, log='all', log_freq=320)\n",
    "\n",
    "loss_list = []\n",
    "egs_seen = 0\n",
    "for imgs, labels in tqdm(train_loader):\n",
    "    imgs = imgs.to('cuda')\n",
    "    labels = labels.to('cuda')\n",
    "    \n",
    "    logits = model(imgs)\n",
    "    loss = t.nn.functional.cross_entropy(logits, labels)\n",
    "    loss.backward()\n",
    "    optimizer.step()\n",
    "    optimizer.zero_grad()\n",
    "\n",
    "    egs_seen += imgs.shape[0]\n",
    "    wandb.log({'loss': loss.item()}, egs_seen)\n",
    "    loss_list.append(loss.item())"
   ]
  },
  {
   "cell_type": "code",
   "execution_count": 17,
   "id": "7049df79",
   "metadata": {},
   "outputs": [
    {
     "name": "stderr",
     "output_type": "stream",
     "text": [
      "100%|██████████| 157/157 [00:00<00:00, 211.29it/s]\n"
     ]
    },
    {
     "data": {
      "text/html": [],
      "text/plain": [
       "<IPython.core.display.HTML object>"
      ]
     },
     "metadata": {},
     "output_type": "display_data"
    },
    {
     "data": {
      "text/html": [
       "<br>    <style><br>        .wandb-row {<br>            display: flex;<br>            flex-direction: row;<br>            flex-wrap: wrap;<br>            justify-content: flex-start;<br>            width: 100%;<br>        }<br>        .wandb-col {<br>            display: flex;<br>            flex-direction: column;<br>            flex-basis: 100%;<br>            flex: 1;<br>            padding: 10px;<br>        }<br>    </style><br><div class=\"wandb-row\"><div class=\"wandb-col\"><h3>Run history:</h3><br/><table class=\"wandb\"><tr><td>accuracy</td><td>▁</td></tr><tr><td>loss</td><td>█▄▃▂▃▂▁▂▂▂▁▁▂▂▂▁▂▂▂▂▁▁▁▁▂▂▂▂▁▂▁▁▂▂▁▁▁▁▁▁</td></tr></table><br/></div><div class=\"wandb-col\"><h3>Run summary:</h3><br/><table class=\"wandb\"><tr><td>accuracy</td><td>0.9643</td></tr><tr><td>loss</td><td>0.019</td></tr></table><br/></div></div>"
      ],
      "text/plain": [
       "<IPython.core.display.HTML object>"
      ]
     },
     "metadata": {},
     "output_type": "display_data"
    },
    {
     "data": {
      "text/html": [
       " View run <strong style=\"color:#cdcd00\">unique-wind-4</strong> at: <a href='https://wandb.ai/atharva_nihalani-brown-university/trial-sweep/runs/c0gvqgvl' target=\"_blank\">https://wandb.ai/atharva_nihalani-brown-university/trial-sweep/runs/c0gvqgvl</a><br> View project at: <a href='https://wandb.ai/atharva_nihalani-brown-university/trial-sweep' target=\"_blank\">https://wandb.ai/atharva_nihalani-brown-university/trial-sweep</a><br>Synced 5 W&B file(s), 0 media file(s), 0 artifact file(s) and 0 other file(s)"
      ],
      "text/plain": [
       "<IPython.core.display.HTML object>"
      ]
     },
     "metadata": {},
     "output_type": "display_data"
    },
    {
     "data": {
      "text/html": [
       "Find logs at: <code>./wandb/run-20250522_232647-c0gvqgvl/logs</code>"
      ],
      "text/plain": [
       "<IPython.core.display.HTML object>"
      ]
     },
     "metadata": {},
     "output_type": "display_data"
    }
   ],
   "source": [
    "imgs_correct = 0\n",
    "imgs_seen = 0\n",
    "\n",
    "for imgs, labels in tqdm(test_loader):\n",
    "    imgs = imgs.to('cuda')\n",
    "    labels = labels.to('cuda')\n",
    "    \n",
    "    with t.no_grad():\n",
    "        logits = model(imgs)\n",
    "    preds = t.argmax(logits, dim=1)\n",
    "\n",
    "    assert preds.shape == labels.shape\n",
    "\n",
    "    imgs_correct += t.sum(preds==labels).item()\n",
    "    imgs_seen += imgs.shape[0]\n",
    "\n",
    "accuracy = imgs_correct / imgs_seen\n",
    "wandb.log({'accuracy':accuracy}, egs_seen)\n",
    "wandb.finish()"
   ]
  },
  {
   "cell_type": "code",
   "execution_count": 18,
   "id": "61d700ac",
   "metadata": {},
   "outputs": [
    {
     "data": {
      "text/plain": [
       "0.9643"
      ]
     },
     "execution_count": 18,
     "metadata": {},
     "output_type": "execute_result"
    }
   ],
   "source": [
    "accuracy"
   ]
  }
 ],
 "metadata": {
  "kernelspec": {
   "display_name": "arena-env",
   "language": "python",
   "name": "python3"
  },
  "language_info": {
   "codemirror_mode": {
    "name": "ipython",
    "version": 3
   },
   "file_extension": ".py",
   "mimetype": "text/x-python",
   "name": "python",
   "nbconvert_exporter": "python",
   "pygments_lexer": "ipython3",
   "version": "3.11.11"
  }
 },
 "nbformat": 4,
 "nbformat_minor": 5
}
