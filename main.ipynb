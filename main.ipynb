{
 "cells": [
  {
   "cell_type": "code",
   "execution_count": 6,
   "id": "5684673f",
   "metadata": {},
   "outputs": [],
   "source": [
    "import torch as t\n",
    "import numpy as np\n",
    "import math\n",
    "from matplotlib import pyplot as plt\n",
    "from dataclasses import dataclass\n",
    "from torchvision import datasets, transforms\n",
    "from torch.utils.data import DataLoader\n",
    "from tqdm import tqdm"
   ]
  },
  {
   "cell_type": "code",
   "execution_count": 7,
   "id": "e9741e0e",
   "metadata": {},
   "outputs": [],
   "source": [
    "@dataclass\n",
    "class CNNArgs:\n",
    "    batch_size = 64\n",
    "    lr = 0.01\n",
    "    epochs = 3\n",
    "    img_dim = 28\n",
    "\n",
    "args = CNNArgs()"
   ]
  },
  {
   "cell_type": "code",
   "execution_count": 8,
   "id": "097d7a47",
   "metadata": {},
   "outputs": [
    {
     "name": "stderr",
     "output_type": "stream",
     "text": [
      "100%|██████████| 9.91M/9.91M [00:00<00:00, 12.0MB/s]\n",
      "100%|██████████| 28.9k/28.9k [00:00<00:00, 316kB/s]\n",
      "100%|██████████| 1.65M/1.65M [00:00<00:00, 2.71MB/s]\n",
      "100%|██████████| 4.54k/4.54k [00:00<00:00, 2.37MB/s]\n"
     ]
    }
   ],
   "source": [
    "train_dataset = datasets.MNIST(root='./data', train=True, download=True, transform=transforms.ToTensor())\n",
    "test_dataset = datasets.MNIST(root='./data', train=False, download=True, transform=transforms.ToTensor())\n",
    "\n",
    "train_loader = DataLoader(train_dataset, batch_size=args.batch_size, shuffle=True,)\n",
    "test_loader = DataLoader(test_dataset, batch_size=args.batch_size, shuffle=False,)"
   ]
  },
  {
   "cell_type": "code",
   "execution_count": 11,
   "id": "d2e2c2c7",
   "metadata": {},
   "outputs": [],
   "source": [
    "class CNN(t.nn.Module):\n",
    "    def __init__(self, args):\n",
    "        super().__init__()\n",
    "        self.layers = t.nn.Sequential(\n",
    "            t.nn.Conv2d(1, 4, 3, padding='same'),\n",
    "            t.nn.ReLU(),\n",
    "            t.nn.MaxPool2d(2, 2),\n",
    "            t.nn.Flatten(),\n",
    "            t.nn.Linear(14*14*4, 64),\n",
    "            t.nn.ReLU(),\n",
    "            t.nn.Linear(64, 10)\n",
    "        )\n",
    "\n",
    "    def forward(self, x):\n",
    "        return self.layers(x)\n",
    "\n",
    "    def extra_repr(self):\n",
    "        pass\n",
    "\n",
    "\n",
    "class FeedForward(t.nn.Module):\n",
    "    def __init__(self, args):\n",
    "        super().__init__()\n",
    "        self.layers = t.nn.Sequential(\n",
    "            t.nn.Flatten(),\n",
    "            t.nn.Linear(28*28, 64),\n",
    "            t.nn.ReLU(),\n",
    "            t.nn.Linear(64, 10),\n",
    "            # t.nn.Softmax()\n",
    "        )\n",
    "\n",
    "    def forward(self, x):\n",
    "        return self.layers(x)\n",
    "\n",
    "    def extra_repr(self):\n",
    "        pass"
   ]
  },
  {
   "cell_type": "code",
   "execution_count": 18,
   "id": "1ec666d8",
   "metadata": {},
   "outputs": [
    {
     "name": "stderr",
     "output_type": "stream",
     "text": [
      "  0%|          | 0/938 [00:00<?, ?it/s]"
     ]
    },
    {
     "name": "stderr",
     "output_type": "stream",
     "text": [
      "100%|██████████| 938/938 [00:05<00:00, 175.18it/s]\n"
     ]
    }
   ],
   "source": [
    "model = FeedForward(args).to('cuda')\n",
    "optimizer = t.optim.AdamW(model.parameters(), lr=args.lr)\n",
    "\n",
    "loss_list = []\n",
    "for imgs, labels in tqdm(train_loader):\n",
    "    imgs = imgs.to('cuda')\n",
    "    labels = labels.to('cuda')\n",
    "    \n",
    "    logits = model(imgs)\n",
    "    loss = t.nn.functional.cross_entropy(logits, labels)\n",
    "    loss.backward()\n",
    "    optimizer.step()\n",
    "    optimizer.zero_grad()\n",
    "\n",
    "    loss_list.append(loss.item())"
   ]
  },
  {
   "cell_type": "code",
   "execution_count": 19,
   "id": "7049df79",
   "metadata": {},
   "outputs": [
    {
     "name": "stderr",
     "output_type": "stream",
     "text": [
      "100%|██████████| 157/157 [00:00<00:00, 200.17it/s]\n"
     ]
    }
   ],
   "source": [
    "imgs_correct = 0\n",
    "imgs_seen = 0\n",
    "\n",
    "for imgs, labels in tqdm(test_loader):\n",
    "    imgs = imgs.to('cuda')\n",
    "    labels = labels.to('cuda')\n",
    "    \n",
    "    with t.no_grad():\n",
    "        logits = model(imgs)\n",
    "    preds = t.argmax(logits, dim=1)\n",
    "\n",
    "    assert preds.shape == labels.shape\n",
    "\n",
    "    imgs_correct += t.sum(preds==labels).item()\n",
    "    imgs_seen += imgs.shape[0]\n",
    "    "
   ]
  },
  {
   "cell_type": "code",
   "execution_count": 20,
   "id": "61d700ac",
   "metadata": {},
   "outputs": [
    {
     "data": {
      "text/plain": [
       "0.9597"
      ]
     },
     "execution_count": 20,
     "metadata": {},
     "output_type": "execute_result"
    }
   ],
   "source": [
    "imgs_correct / imgs_seen"
   ]
  },
  {
   "cell_type": "code",
   "execution_count": 21,
   "id": "4d7f672d",
   "metadata": {},
   "outputs": [
    {
     "data": {
      "text/plain": [
       "[<matplotlib.lines.Line2D at 0x77eef6a43750>]"
      ]
     },
     "execution_count": 21,
     "metadata": {},
     "output_type": "execute_result"
    },
    {
     "data": {
      "image/png": "[encoded data removed]",
      "text/plain": [
       "<Figure size 640x480 with 1 Axes>"
      ]
     },
     "metadata": {},
     "output_type": "display_data"
    }
   ],
   "source": [
    "plt.plot(loss_list)"
   ]
  }
 ],
 "metadata": {
  "kernelspec": {
   "display_name": "arena-env",
   "language": "python",
   "name": "python3"
  },
  "language_info": {
   "codemirror_mode": {
    "name": "ipython",
    "version": 3
   },
   "file_extension": ".py",
   "mimetype": "text/x-python",
   "name": "python",
   "nbconvert_exporter": "python",
   "pygments_lexer": "ipython3",
   "version": "3.11.11"
  }
 },
 "nbformat": 4,
 "nbformat_minor": 5
}
